{
 "metadata": {
  "language_info": {
   "codemirror_mode": {
    "name": "ipython",
    "version": 3
   },
   "file_extension": ".py",
   "mimetype": "text/x-python",
   "name": "python",
   "nbconvert_exporter": "python",
   "pygments_lexer": "ipython3",
   "version": "3.8.1"
  },
  "orig_nbformat": 2,
  "kernelspec": {
   "name": "python38164bit5b420123e45e4f1cb5e2145618c9dbef",
   "display_name": "Python 3.8.1 64-bit"
  },
  "metadata": {
   "interpreter": {
    "hash": "2dc8ddb28d496379d707e9e93ed511d713ad5e3a7eecf718e662549bc379cb9d"
   }
  }
 },
 "nbformat": 4,
 "nbformat_minor": 2,
 "cells": [
  {
   "source": [
    "# Creating a Custom FASTA File"
   ],
   "cell_type": "markdown",
   "metadata": {}
  },
  {
   "source": [
    "The following code takes in a specified FASTA database (i.e. a Uniprot download or custom search space), iterates through each protein, truncates the protein sequence and inserts a custom peptide at the C-terminus. \n",
    "\n",
    "This is a 'brute force' method of creating all possible protein sequences that may exist when the location of the inserted peptide sequence is not specific. As such, this produces a large FASTA. Each new protein sequence within the output file is given a unique identifier that allows for discrimination of unique sequences during database search.\n",
    "\n",
    "For example: \n",
    ">\"sp|ProteinAccession_151|Protein_Name_151\"       indicates the linker sequnce has been inserted after amino acid 151 in the original protein sequence \n",
    "\n",
    ">\"sp|ProteinAccession_150|Protein_Name_150\"       is the same protein as shown above but has the linker sequence inserted after amino acid 150\n",
    "\n",
    "To see an example of this in action, running cells 1-4 will produce an example fasta database with the unique linker specified below. To see the fasta used within our manuscript, run cells..."
   ],
   "cell_type": "markdown",
   "metadata": {}
  },
  {
   "cell_type": "code",
   "execution_count": 1,
   "metadata": {},
   "outputs": [],
   "source": [
    "import re\n",
    "import os\n",
    "import ntpath\n",
    "from pyteomics import fasta"
   ]
  },
  {
   "cell_type": "code",
   "execution_count": 2,
   "metadata": {},
   "outputs": [],
   "source": [
    "# below are the custom functions used to produce the custom fasta file \n",
    "\n",
    "def customize(s: str, new_text: str, start_pos: int, stop_pos=None):\n",
    "    '''\n",
    "    This function takes in a full protein sequence string,\n",
    "    truncates the protein at the 'start_position' and inserts\n",
    "    the 'new_text' at the end.\n",
    "\n",
    "    :param s (str): full protien sequence or header name from fasta\n",
    "    :param new_text (str): linker sequence or new text to be inserted; \n",
    "                           specified by user\n",
    "    :param start_pos (int): amino acid position or string index that specifies\n",
    "                            where the sequence will be terminated\n",
    "\n",
    "    returns: truncated protein sequence with an added linker sequnce\n",
    "    '''\n",
    "    pref = s[:start_pos]\n",
    "    if stop_pos:\n",
    "        return pref + new_text + s[stop_pos:]\n",
    "    else:\n",
    "        suf = s[:start_pos]\n",
    "        return suf + new_text\n",
    "\n",
    "def grab_header_info(s: str):\n",
    "    '''\n",
    "    Function used to grab the protein accession and name from the \n",
    "    fasta header.\n",
    "\n",
    "    :param s (str): string containing a full fasta header\n",
    "\n",
    "    returns: the protein name/accession, the starting string index,\n",
    "             the ending string index\n",
    "    '''\n",
    "    pat = re.compile(r'\\|\\w+\\|\\w+\\s')\n",
    "    match = re.search(pat, s)\n",
    "    if not match:\n",
    "        raise Exception(f'No regex match found in {s}')\n",
    "    start, end = match.span()[0]+1, match.span()[1]-1\n",
    "    res = s[start:end]\n",
    "    return res, start, end\n",
    "\n",
    "def make_new_header(s: str, i: int):\n",
    "    '''\n",
    "    Function that creates a new header that denotes the amino acid position\n",
    "    where the custom linker seqence has been inserted.\n",
    "\n",
    "    :param s (str): the header information extracted from func(grab_header_info)\n",
    "    :param i (int): the amino acid position after which with linker has been inserted\n",
    "\n",
    "    returns: a new, useable header \n",
    "    '''\n",
    "    l = s.split('|')\n",
    "    l = [s+'_'+str(i) for s in l]\n",
    "    return '|'.join(l)"
   ]
  },
  {
   "cell_type": "code",
   "execution_count": 3,
   "metadata": {},
   "outputs": [],
   "source": [
    "# file = r\"C:\\Users\\graha\\Downloads\\E.coli_proteome.fasta\"\n",
    "INPUT_FASTA = '.\\RNaseB.fasta'\n",
    "LINKER = \"ANDHHHHHHD\"\n",
    "\n",
    "# read in the original fasta file and instantiate list for new data\n",
    "f = fasta.read(INPUT_FASTA)\n",
    "new_data = []\n",
    "\n",
    "# iterate through each protein and add original sequence to new data\n",
    "for i, (header, seq) in enumerate(f):\n",
    "    new_data.append((header, seq))\n",
    "\n",
    "    # pull the header information so we can write unique protein names in the output fast\n",
    "    name, start, stop = grab_header_info(header)\n",
    "\n",
    "    # go through each protein, sequentially remove the terminal amino acid, add the linker\n",
    "    for j in range(len(seq), 0, -1):\n",
    "        new_name = make_new_header(name, j+1)\n",
    "        new_name = customize(header, new_name, start, stop)\n",
    "        new_seq = customize(seq, LINKER, j)\n",
    "        new_data.append((new_name, new_seq))\n",
    "\n",
    "# write the data to a new fasta file with a familiar filename\n",
    "fasta.write(new_data, output='custom_'+ntpath.basename(INPUT_FASTA))\n",
    "\n",
    "# write the data as a txt file, just in case\n",
    "with open('custom_'+ntpath.basename(INPUT_FASTA)+'.txt', 'a') as f:\n",
    "    for (header, seq) in new_data:\n",
    "        new_string = '\\n'.join([header, seq])\n",
    "        f.write(new_string+'\\n')"
   ]
  },
  {
   "source": [
    "## Run the real data here"
   ],
   "cell_type": "markdown",
   "metadata": {}
  },
  {
   "cell_type": "code",
   "execution_count": 4,
   "metadata": {},
   "outputs": [],
   "source": [
    "\n",
    "INPUT_FASTA = '.\\E.coli_proteome.fasta'\n",
    "LINKER = \"ANDHHHHHHD\"\n",
    "\n",
    "# read in the original fasta file and instantiate list for new data\n",
    "f = fasta.read(INPUT_FASTA)\n",
    "new_data = []\n",
    "\n",
    "# iterate through each protein and add original sequence to new data\n",
    "for i, (header, seq) in enumerate(f):\n",
    "    new_data.append((header, seq))\n",
    "\n",
    "    # pull the header information so we can write unique protein names in the output fast\n",
    "    name, start, stop = grab_header_info(header)\n",
    "\n",
    "    # go through each protein, sequentially remove the terminal amino acid, add the linker\n",
    "    for j in range(len(seq), 0, -1):\n",
    "        new_name = make_new_header(name, j+1)\n",
    "        new_name = customize(header, new_name, start, stop)\n",
    "        new_seq = customize(seq, LINKER, j)\n",
    "        new_data.append((new_name, new_seq))\n",
    "\n",
    "# write the data to a new fasta file with a familiar filename\n",
    "fasta.write(new_data, output='custom_'+ntpath.basename(INPUT_FASTA))\n",
    "\n",
    "# write the data as a txt file, just in case\n",
    "with open('custom_'+ntpath.basename(INPUT_FASTA)+'.txt', 'a') as f:\n",
    "    for (header, seq) in new_data:\n",
    "        new_string = '\\n'.join([header, seq])\n",
    "        f.write(new_string+'\\n')"
   ]
  },
  {
   "cell_type": "code",
   "execution_count": null,
   "metadata": {},
   "outputs": [],
   "source": []
  }
 ]
}